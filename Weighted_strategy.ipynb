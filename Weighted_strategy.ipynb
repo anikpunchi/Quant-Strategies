{
 "cells": [
  {
   "cell_type": "markdown",
   "id": "cc11f9b9-22e0-4889-ad49-96bef549a1ce",
   "metadata": {
    "id": "cc11f9b9-22e0-4889-ad49-96bef549a1ce"
   },
   "source": []
  },
  {
   "cell_type": "code",
   "execution_count": null,
   "id": "e1f7b2c5-34e6-46a1-bbb9-00a90161fb32",
   "metadata": {
    "colab": {
     "base_uri": "https://localhost:8080/",
     "height": 580
    },
    "id": "e1f7b2c5-34e6-46a1-bbb9-00a90161fb32",
    "outputId": "87df66d2-c271-4c4e-a630-b13b43c37f37"
   },
   "outputs": [],
   "source": [
    "import pandas as pd\n",
    "import numpy as np\n",
    "import yfinance as yf\n",
    "import statsmodels.api as sm\n",
    "\n",
    "tickers = ['AAPL', 'TSLA', 'NVDA', 'META', 'AMZN', 'GOOG']\n",
    "\n",
    "prices = yf.download(tickers, start='2020-01-01', end='2023-01-01')['Close']\n",
    "\n",
    "returns = prices.pct_change().dropna()\n",
    "spy = yf.download('SPY', start=returns.index[0], end=returns.index[-1])['Close']\n",
    "spy_returns = spy.pct_change().dropna()\n",
    "returns.cumsum().plot(title=\"Ticker Returns\")"
   ]
  },
  {
   "cell_type": "markdown",
   "id": "a91b9dc0-2534-4437-9649-359ac9369309",
   "metadata": {
    "id": "a91b9dc0-2534-4437-9649-359ac9369309"
   },
   "source": [
    "# Applying a strategy and obtaining returns\n",
    "A rank demeaned strategy using a 20 day moving average window for the 6 tickers is implemented after which the strategy return streams along with the individual sharpe ratios are obtained."
   ]
  },
  {
   "cell_type": "code",
   "execution_count": null,
   "id": "8b2c2c9c-8c98-4ff8-b3c5-27bd0d42acc3",
   "metadata": {
    "id": "8b2c2c9c-8c98-4ff8-b3c5-27bd0d42acc3",
    "outputId": "dcc1d62e-3fb0-48d3-9759-e75cb7a615c6"
   },
   "outputs": [],
   "source": [
    "strat = {}\n",
    "avg_ret = returns.rolling(20, min_periods=1).mean().rank(1)\n",
    "avg_ret = avg_ret.subtract(avg_ret.mean(1), 0)\n",
    "avg_ret = avg_ret.divide(avg_ret.abs().sum(1), 0)\n",
    "strat = (avg_ret.shift()*returns)\n",
    "strat.cumsum().plot(title=\"Strategy returns\")"
   ]
  },
  {
   "cell_type": "code",
   "execution_count": null,
   "id": "f02386a0-86d0-45c1-8d10-ee041ce8d431",
   "metadata": {
    "id": "f02386a0-86d0-45c1-8d10-ee041ce8d431",
    "outputId": "6e0d5343-c6c7-4fc0-8ac0-9f89b7ce3462"
   },
   "outputs": [],
   "source": [
    "sr = (strat.mean()/strat.std())*np.sqrt(252)\n",
    "print(\"Sharpe ratios of individual strategies: \", sr)"
   ]
  },
  {
   "cell_type": "markdown",
   "id": "9f5112f4-95bc-4241-a2fb-d78d1a3cb640",
   "metadata": {
    "id": "9f5112f4-95bc-4241-a2fb-d78d1a3cb640"
   },
   "source": [
    "# Calculating optimal weights using mean-variance optimization\n",
    "Optimal weights are calculated using $w = \\Sigma^{-1} \\times \\mu $.\n",
    "\n",
    "Once the weights are assigned to each strategy, the combined returns stream is calculated by doing a dot product of the weights array and the return stream of the individual strategies"
   ]
  },
  {
   "cell_type": "code",
   "execution_count": null,
   "id": "45240a25-9dcb-463e-9795-c079c4132bbd",
   "metadata": {
    "id": "45240a25-9dcb-463e-9795-c079c4132bbd"
   },
   "outputs": [],
   "source": [
    "def optimal_weights(sigma, mu):\n",
    "    weights = np.linalg.inv(sigma) @ mu\n",
    "    weights = weights / np.abs(weights).sum()\n",
    "    return weights\n",
    "sigma = strat.cov()\n",
    "mu = strat.mean()\n",
    "weights = optimal_weights(sigma, mu)"
   ]
  },
  {
   "cell_type": "code",
   "execution_count": null,
   "id": "d04af814-2715-496b-8696-336c5a6297b8",
   "metadata": {
    "id": "d04af814-2715-496b-8696-336c5a6297b8",
    "outputId": "00cff5f9-3049-4253-bc61-787adcd9cac4"
   },
   "outputs": [],
   "source": [
    "combined_returns = strat @ weights\n",
    "\n",
    "\n",
    "cum_individual = strat.cumsum()\n",
    "cum_combined = combined_returns.cumsum()\n",
    "cum_combined.plot(title = \"Combined Strategy using optimal weights\")"
   ]
  },
  {
   "cell_type": "code",
   "execution_count": null,
   "id": "90dc7a42-bc5e-4e50-ab04-b90121f3e410",
   "metadata": {
    "id": "90dc7a42-bc5e-4e50-ab04-b90121f3e410",
    "outputId": "442c8764-1cd2-4ed8-a7aa-ca65c63501f9"
   },
   "outputs": [],
   "source": [
    "new_sharpe = (combined_returns.mean()/combined_returns.std())*np.sqrt(252)\n",
    "print(\"Sharpe ratio of combined portfolio: \", new_sharpe)"
   ]
  },
  {
   "cell_type": "markdown",
   "id": "cc3ba0e8-f63e-424b-b307-b45db256059c",
   "metadata": {
    "id": "cc3ba0e8-f63e-424b-b307-b45db256059c"
   },
   "source": [
    "# Testing for alpha\n",
    "Our combined strategy is regressed against the benchmark which is SPY or the S&P500."
   ]
  },
  {
   "cell_type": "code",
   "execution_count": null,
   "id": "80538dd9-c19a-413b-829d-5cd8adb0cd64",
   "metadata": {
    "id": "80538dd9-c19a-413b-829d-5cd8adb0cd64",
    "outputId": "a5daaccf-56ec-4a38-ae87-43c2580adaf2"
   },
   "outputs": [],
   "source": [
    "combined_returns = combined_returns.loc[spy_returns.index]\n",
    "X = sm.add_constant(spy_returns)\n",
    "model = sm.OLS(combined_returns, X).fit()\n",
    "print(model.summary())\n",
    "\n",
    "\n",
    "print(\"Alpha (annualized):\", model.params['const'] * 252)\n",
    "\n"
   ]
  },
  {
   "cell_type": "markdown",
   "id": "b35a34d1-6575-4be4-9e54-c849430fc697",
   "metadata": {
    "id": "b35a34d1-6575-4be4-9e54-c849430fc697"
   },
   "source": [
    "# Max Drawdown Duration"
   ]
  },
  {
   "cell_type": "code",
   "execution_count": null,
   "id": "eeb0c54c-fcd8-4ce3-b977-3dc2debd522d",
   "metadata": {
    "id": "eeb0c54c-fcd8-4ce3-b977-3dc2debd522d",
    "outputId": "8be181c9-24b7-4684-cb8a-596060cceec0"
   },
   "outputs": [],
   "source": [
    "cum_returns = (1 + combined_returns).cumprod()\n",
    "running_max = cum_returns.cummax()\n",
    "drawdown = (cum_returns - running_max) / running_max\n",
    "max_drawdown = drawdown.min()\n",
    "print(\"Max Drawdown:\", max_drawdown)"
   ]
  },
  {
   "cell_type": "code",
   "execution_count": null,
   "id": "38704b80-1631-4d67-8e1a-1b9a609a49bb",
   "metadata": {
    "id": "38704b80-1631-4d67-8e1a-1b9a609a49bb"
   },
   "outputs": [],
   "source": []
  }
 ],
 "metadata": {
  "colab": {
   "provenance": []
  },
  "kernelspec": {
   "display_name": "Python 3 (ipykernel)",
   "language": "python",
   "name": "python3"
  },
  "language_info": {
   "codemirror_mode": {
    "name": "ipython",
    "version": 3
   },
   "file_extension": ".py",
   "mimetype": "text/x-python",
   "name": "python",
   "nbconvert_exporter": "python",
   "pygments_lexer": "ipython3",
   "version": "3.12.2"
  }
 },
 "nbformat": 4,
 "nbformat_minor": 5
}
