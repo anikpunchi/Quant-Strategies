{
 "cells": [
  {
   "cell_type": "markdown",
   "id": "cc11f9b9-22e0-4889-ad49-96bef549a1ce",
   "metadata": {},
   "source": []
  },
  {
   "cell_type": "code",
   "execution_count": null,
   "id": "e1f7b2c5-34e6-46a1-bbb9-00a90161fb32",
   "metadata": {},
   "outputs": [],
   "source": [
    "import pandas as pd\n",
    "import numpy as np\n",
    "import yfinance as yf\n",
    "import statsmodels.api as sm\n",
    "\n",
    "tickers = ['AAPL', 'TSLA', 'NVDA', 'META', 'AMZN', 'GOOG']\n",
    "\n",
    "\n",
    "\n",
    "prices = yf.download(tickers, start='2020-01-01', end='2023-01-01')['Close']\n",
    "\n",
    "returns = prices.pct_change().dropna()\n",
    "spy = yf.download('SPY', start=returns.index[0], end=returns.index[-1])['Close']\n",
    "spy_returns = spy.pct_change().dropna()\n",
    "returns.cumsum().plot(title=\"Ticker returns\")"
   ]
  },
  {
   "cell_type": "markdown",
   "id": "a91b9dc0-2534-4437-9649-359ac9369309",
   "metadata": {},
   "source": [
    "# Applying a strategy and obtaining returns\n",
    "A rank demeaned strategy using a 20 day moving average window for the 6 tickers is implemented after which the strategy return streams along with the individual sharpe ratios are obtained."
   ]
  },
  {
   "cell_type": "code",
   "execution_count": null,
   "id": "8b2c2c9c-8c98-4ff8-b3c5-27bd0d42acc3",
   "metadata": {},
   "outputs": [],
   "source": [
    "strat = {}\n",
    "avg_ret = returns.rolling(20, min_periods=1).mean().rank(1)\n",
    "avg_ret = avg_ret.subtract(avg_ret.mean(1), 0)\n",
    "avg_ret = avg_ret.divide(avg_ret.abs().sum(1), 0)\n",
    "strat = (avg_ret.shift()*returns)\n",
    "strat.cumsum().plot(title=\"Strategy returns\")"
   ]
  },
  {
   "cell_type": "code",
   "execution_count": null,
   "id": "f02386a0-86d0-45c1-8d10-ee041ce8d431",
   "metadata": {},
   "outputs": [],
   "source": [
    "sr = (strat.mean()/strat.std())*np.sqrt(252)\n",
    "print(\"Sharpe ratios of individual strategies: \", sr)"
   ]
  },
  {
   "cell_type": "markdown",
   "id": "9f5112f4-95bc-4241-a2fb-d78d1a3cb640",
   "metadata": {},
   "source": [
    "# Calculating optimal weights using mean-variance optimization\n",
    "Optimal weights are calculated using $w = \\Sigma^{-1} \\times \\mu $.\n",
    "\n",
    "Once the weights are assigned to each strategy, the combined returns stream is calculated by doing a dot product of the weights array and the return stream of the individual strategies"
   ]
  },
  {
   "cell_type": "code",
   "execution_count": null,
   "id": "45240a25-9dcb-463e-9795-c079c4132bbd",
   "metadata": {},
   "outputs": [],
   "source": [
    "def optimal_weights(sigma, mu):\n",
    "    weights = np.linalg.inv(sigma) @ mu\n",
    "    weights = weights / np.abs(weights).sum()\n",
    "    return weights\n",
    "sigma = strat.cov()\n",
    "mu = strat.mean()\n",
    "weights = optimal_weights(sigma, mu)"
   ]
  },
  {
   "cell_type": "code",
   "execution_count": null,
   "id": "d04af814-2715-496b-8696-336c5a6297b8",
   "metadata": {},
   "outputs": [],
   "source": [
    "combined_returns = strat @ weights\n",
    "\n",
    "\n",
    "cum_individual = strat.cumsum()\n",
    "cum_combined = combined_returns.cumsum()\n",
    "cum_combined.plot()"
   ]
  },
  {
   "cell_type": "code",
   "execution_count": null,
   "id": "90dc7a42-bc5e-4e50-ab04-b90121f3e410",
   "metadata": {},
   "outputs": [],
   "source": [
    "print(\"Sharpe ratio of combined portfolio: \", new_sharpe)"
   ]
  },
  {
   "cell_type": "markdown",
   "id": "cc3ba0e8-f63e-424b-b307-b45db256059c",
   "metadata": {},
   "source": [
    "# Testing for alpha\n",
    "Our combined strategy is regressed against the benchmark which is SPY or the S&P500."
   ]
  },
  {
   "cell_type": "code",
   "execution_count": null,
   "id": "80538dd9-c19a-413b-829d-5cd8adb0cd64",
   "metadata": {},
   "outputs": [],
   "source": [
    "combined_returns = combined_returns.loc[spy_returns.index]\n",
    "X = sm.add_constant(spy_returns)  \n",
    "model = sm.OLS(combined_returns, X).fit()\n",
    "print(model.summary())\n",
    "\n",
    "\n",
    "print(\"Alpha (annualized):\", model.params['const'] * 252)\n",
    "\n"
   ]
  },
  {
   "cell_type": "markdown",
   "id": "b35a34d1-6575-4be4-9e54-c849430fc697",
   "metadata": {},
   "source": [
    "# Max Drawdown Duration"
   ]
  },
  {
   "cell_type": "code",
   "execution_count": null,
   "id": "eeb0c54c-fcd8-4ce3-b977-3dc2debd522d",
   "metadata": {},
   "outputs": [],
   "source": [
    "cum_returns = (1 + combined_returns).cumprod()\n",
    "running_max = cum_returns.cummax()\n",
    "drawdown = (cum_returns - running_max) / running_max\n",
    "max_drawdown = drawdown.min()\n",
    "print(\"Max Drawdown:\", max_drawdown)"
   ]
  },
  {
   "cell_type": "code",
   "execution_count": null,
   "id": "38704b80-1631-4d67-8e1a-1b9a609a49bb",
   "metadata": {},
   "outputs": [],
   "source": []
  }
 ],
 "metadata": {
  "kernelspec": {
   "display_name": "Python 3 (ipykernel)",
   "language": "python",
   "name": "python3"
  },
  "language_info": {
   "codemirror_mode": {
    "name": "ipython",
    "version": 3
   },
   "file_extension": ".py",
   "mimetype": "text/x-python",
   "name": "python",
   "nbconvert_exporter": "python",
   "pygments_lexer": "ipython3",
   "version": "3.12.7"
  }
 },
 "nbformat": 4,
 "nbformat_minor": 5
}
